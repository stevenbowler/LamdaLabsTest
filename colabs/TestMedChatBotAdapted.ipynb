{
  "nbformat": 4,
  "nbformat_minor": 0,
  "metadata": {
    "colab": {
      "provenance": [],
      "authorship_tag": "ABX9TyOuXIRKEougy1VVIC45s4xi",
      "include_colab_link": true
    },
    "kernelspec": {
      "name": "python3",
      "display_name": "Python 3"
    },
    "language_info": {
      "name": "python"
    }
  },
  "cells": [
    {
      "cell_type": "markdown",
      "metadata": {
        "id": "view-in-github",
        "colab_type": "text"
      },
      "source": [
        "<a href=\"https://colab.research.google.com/github/stevenbowler/LamdaLabsTest/blob/master/colabs/TestMedChatBotAdapted.ipynb\" target=\"_parent\"><img src=\"https://colab.research.google.com/assets/colab-badge.svg\" alt=\"Open In Colab\"/></a>"
      ]
    },
    {
      "cell_type": "markdown",
      "source": [
        "## Test the MedChatBotAdapted\n",
        "\n",
        "model located in  huggingface/stevenbowler/MedChatBotAdapted, trained with auto-train on LambdaLabs GPU\n",
        "Uses bigbio/med_qa dataset for fine-tuning\n",
        "See other colabs in this repo: AutoTrain_LLM to create the model"
      ],
      "metadata": {
        "id": "gmuWXLps3oYb"
      }
    },
    {
      "cell_type": "code",
      "execution_count": null,
      "metadata": {
        "id": "TsmLowE-2t7_"
      },
      "outputs": [],
      "source": [
        "!pip install -qU \\\n",
        "  transformers \\\n",
        "  sentence-transformers \\\n",
        "  pinecone-client \\\n",
        "  datasets \\\n",
        "  accelerate \\\n",
        "  einops \\\n",
        "  langchain \\\n",
        "  xformers \\\n",
        "  bitsandbytes \\\n",
        "  pypdf"
      ]
    },
    {
      "cell_type": "code",
      "source": [
        "from google.colab import drive\n",
        "\n",
        "drive.mount('/content/drive', force_remount=True)"
      ],
      "metadata": {
        "id": "0ONAFEdK4s3S"
      },
      "execution_count": null,
      "outputs": []
    },
    {
      "cell_type": "code",
      "source": [
        "# connect to huggingface\n",
        "from huggingface_hub import notebook_login\n",
        "notebook_login()\n"
      ],
      "metadata": {
        "id": "czSpAJd745lU"
      },
      "execution_count": null,
      "outputs": []
    },
    {
      "cell_type": "code",
      "source": [
        "import os\n",
        "import getpass\n",
        "\n",
        "hf_token = getpass.getpass('huggingface token: ')\n",
        "os.environ['HF_TOKEN'] = hf_token"
      ],
      "metadata": {
        "id": "-j6hhCNy47qN"
      },
      "execution_count": null,
      "outputs": []
    },
    {
      "cell_type": "code",
      "source": [
        "model_name = \"stevenbowler/MedChatBotAdapted\""
      ],
      "metadata": {
        "id": "GkcDEVm95dmv"
      },
      "execution_count": null,
      "outputs": []
    },
    {
      "cell_type": "code",
      "source": [
        "from transformers import AutoModelForCausalLM\n",
        "from torch import cuda, bfloat16\n",
        "import transformers\n",
        "\n",
        "bnb_config = transformers.BitsAndBytesConfig(\n",
        "    load_in_8bit=True,\n",
        "    # bnb_4bit_quant_type='nf4',\n",
        "    # bnb_4bit_use_double_quant=True,\n",
        "    # bnb_4bit_compute_dtype=bfloat16\n",
        ")\n",
        "\n",
        "model_config = transformers.AutoConfig.from_pretrained(\n",
        "    model_name,\n",
        "    gradient_checkpointing=True,\n",
        "    use_auth_token=hf_token\n",
        ")\n",
        "\n",
        "model = AutoModelForCausalLM.from_pretrained(\n",
        "      model_name,\n",
        "      trust_remote_code=True,\n",
        "      config=model_config,\n",
        "      quantization_config=bnb_config,\n",
        "      device_map='auto',\n",
        "      use_auth_token=hf_token\n",
        "      )"
      ],
      "metadata": {
        "id": "vfCn1RNt5lFP"
      },
      "execution_count": null,
      "outputs": []
    }
  ]
}