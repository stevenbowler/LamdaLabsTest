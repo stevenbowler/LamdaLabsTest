{
  "nbformat": 4,
  "nbformat_minor": 0,
  "metadata": {
    "colab": {
      "provenance": [],
      "authorship_tag": "ABX9TyMUKEdsQ0Ql0Ojidbs2UNNm",
      "include_colab_link": true
    },
    "kernelspec": {
      "name": "python3",
      "display_name": "Python 3"
    },
    "language_info": {
      "name": "python"
    }
  },
  "cells": [
    {
      "cell_type": "markdown",
      "metadata": {
        "id": "view-in-github",
        "colab_type": "text"
      },
      "source": [
        "<a href=\"https://colab.research.google.com/github/stevenbowler/LamdaLabsTest/blob/master/colabs/TestMedChatBotAdapted.ipynb\" target=\"_parent\"><img src=\"https://colab.research.google.com/assets/colab-badge.svg\" alt=\"Open In Colab\"/></a>"
      ]
    },
    {
      "cell_type": "code",
      "execution_count": null,
      "metadata": {
        "id": "TsmLowE-2t7_"
      },
      "outputs": [],
      "source": [
        "!pip install -qU \\\n",
        "  transformers \\\n",
        "  sentence-transformers \\\n",
        "  pinecone-client \\\n",
        "  datasets \\\n",
        "  accelerate \\\n",
        "  einops \\\n",
        "  langchain \\\n",
        "  xformers \\\n",
        "  bitsandbytes \\\n",
        "  pypdf"
      ]
    }
  ]
}